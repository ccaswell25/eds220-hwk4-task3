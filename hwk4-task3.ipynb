{
 "cells": [
  {
   "cell_type": "markdown",
   "id": "43089500-fda1-4457-b702-905300e7a834",
   "metadata": {
    "tags": []
   },
   "source": [
    "# Title: Santa Barbara Thomas Fire Air Quality Index (AQI) Analysis\n",
    "Author: Carly Caswell\n",
    "\n",
    "Repository: https://github.com/ccaswell25/eds220-hwk4-task3 "
   ]
  },
  {
   "cell_type": "markdown",
   "id": "059157cc-c113-4509-9677-8b124cda855e",
   "metadata": {},
   "source": [
    "## About\n",
    "\n",
    "### Purpose\n",
    "I will create a false color image to show the fire scar of the Thomas fire in 2017. \n",
    "\n",
    "### Highlights\n",
    "\n",
    "-Geospatial data exploration and wrangling with geopandas and numpy\n",
    "\n",
    "-Creating two types of images from raster data \n",
    "\n",
    "-Creating and customizing a map\n",
    "\n",
    "### About the Data\n",
    "\n",
    "**First dataset**\n",
    "\n",
    "A simplified collection of bands (red, green, blue, near-infrared and shortwave infrared) from the Landsat Collection 2 Level-2 atmosperically corrected surface reflectance data, collected by the Landsat 8 satellite. \n",
    "\n",
    "Information about Landsat bands from USGS:\n",
    "\n",
    "[What are the band designations for the Landsat satellites?](https://www.usgs.gov/faqs/what-are-band-designations-landsat-satellites)\n",
    "\n",
    "[Common Landsat Band Combinations](https://www.usgs.gov/media/images/common-landsat-band-combinations)\n",
    "\n",
    "[How do I use a scale factor with Landsat Level-2 science products?](https://www.usgs.gov/faqs/how-do-i-use-a-scale-factor-landsat-level-2-science-products)\n",
    "\n",
    "\n",
    "The data was accessed and pre-processed in the Microsoft Planetary Computer to remove data outside land and coarsen the spatial resolution ([Landsat Collection in MPC](https://planetarycomputer.microsoft.com/dataset/landsat-c2-l2)). Data should be used for visualization purposes only. \n",
    "\n",
    "\n",
    "**Second dataset**\n",
    "\n",
    "A shapefile of fire perimeters in California during 2017. \n",
    "The [complete file can be accessed in the CA state geoportal](https://gis.data.ca.gov/datasets/CALFIRE-Forestry::california-fire-perimeters-all-1/about).\n",
    "\n",
    " "
   ]
  }
 ],
 "metadata": {
  "kernelspec": {
   "display_name": "Anaconda 3 (Base)",
   "language": "python",
   "name": "base"
  },
  "language_info": {
   "codemirror_mode": {
    "name": "ipython",
    "version": 3
   },
   "file_extension": ".py",
   "mimetype": "text/x-python",
   "name": "python",
   "nbconvert_exporter": "python",
   "pygments_lexer": "ipython3",
   "version": "3.9.13"
  }
 },
 "nbformat": 4,
 "nbformat_minor": 5
}
