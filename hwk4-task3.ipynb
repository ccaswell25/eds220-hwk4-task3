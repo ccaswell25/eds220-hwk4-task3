{
 "cells": [
  {
   "cell_type": "markdown",
   "id": "43089500-fda1-4457-b702-905300e7a834",
   "metadata": {
    "tags": []
   },
   "source": [
    "# Title: Santa Barbara Thomas Fire Air Quality Index (AQI) Analysis\n",
    "Author: Carly Caswell\n",
    "\n",
    "Repository: https://github.com/ccaswell25/eds220-hwk4-task3 "
   ]
  },
  {
   "cell_type": "markdown",
   "id": "059157cc-c113-4509-9677-8b124cda855e",
   "metadata": {},
   "source": [
    "## About\n",
    "\n",
    "### Purpose\n",
    "I will create a false color image to show the location of the Thomas fire in 2017 and the impact of air quality on that specific area during the time period of the fire.  \n",
    "\n",
    "### Highlights\n",
    "\n",
    "-Geospatial data exploration and wrangling with geopandas and numpy\n",
    "\n",
    "-Data wrangling and manipulation to calculate moving averages for air quality index during the period of the Thomas Fire\n",
    "\n",
    "-Creating and customizing a map of the Thomas fire area \n",
    "\n",
    "### Dataset Description and References\n",
    "\n",
    "**Dataset 1**\n",
    "\n",
    "A simplified collection of bands (red, green, blue, near-infrared and shortwave infrared) from the Landsat Collection 2 Level-2 atmosperically corrected surface reflectance data, collected by the Landsat 8 satellite. \n",
    "\n",
    "Information about Landsat bands from USGS:\n",
    "\n",
    "[What are the band designations for the Landsat satellites?](https://www.usgs.gov/faqs/what-are-band-designations-landsat-satellites)\n",
    "\n",
    "[Common Landsat Band Combinations](https://www.usgs.gov/media/images/common-landsat-band-combinations)\n",
    "\n",
    "[How do I use a scale factor with Landsat Level-2 science products?](https://www.usgs.gov/faqs/how-do-i-use-a-scale-factor-landsat-level-2-science-products)\n",
    "\n",
    "\n",
    "The data was accessed and pre-processed in the Microsoft Planetary Computer to remove data outside land and coarsen the spatial resolution ([Landsat Collection in MPC](https://planetarycomputer.microsoft.com/dataset/landsat-c2-l2)). Data should be used for visualization purposes only. \n",
    "\n",
    "\n",
    "**Dataset 2**\n",
    "\n",
    "A shapefile of fire perimeters in California during 2017. \n",
    "The [complete file can be accessed in the CA state geoportal](https://gis.data.ca.gov/datasets/CALFIRE-Forestry::california-fire-perimeters-all-1/about).\n",
    "\n",
    " \n",
    "**Dataset 3**\n",
    "\n",
    "We are using [Air Quality Index (AQI)](https://www.airnow.gov/aqi/aqi-basics/) data from the [US Environmental Protection Agency](https://www.epa.gov) to visualize the impact on the AQI of the 2017 [Thomas Fire](https://en.wikipedia.org/wiki/Thomas_Fire) in Santa Barbara County. "
   ]
  },
  {
   "cell_type": "markdown",
   "id": "455055b7-c86d-4977-9297-2caeb594e8d1",
   "metadata": {},
   "source": [
    "# Importing "
   ]
  },
  {
   "cell_type": "code",
   "execution_count": null,
   "id": "3a33a77b-c536-4fff-bb2f-b04fdfc4b8be",
   "metadata": {},
   "outputs": [],
   "source": [
    "#Importing Libraries\n",
    "import os\n",
    "import numpy as np\n",
    "import pandas as pd\n",
    "import geopandas as gpd\n",
    "import rioxarray as rioxr\n",
    "import xarray as xr\n",
    "import pandas as pd \n",
    "from shapely.geometry import Polygon \n",
    "import matplotlib.pyplot as plt\n",
    "from matplotlib.patches import Patch\n",
    "from shapely.geometry import Point"
   ]
  },
  {
   "cell_type": "code",
   "execution_count": null,
   "id": "afaabf4d-9692-4728-9678-69d6034b7fd0",
   "metadata": {},
   "outputs": [],
   "source": [
    "# Importing Data\n",
    "#Reading in bands data \n",
    "bands = os.path.join(os.getcwd(), 'data', 'landsat8-2018-01-26-sb-simplified.nc') \n",
    "bands = rioxr.open_rasterio(bands)\n",
    "\n",
    "#Reading in CA fires data \n",
    "ca_fires = gpd.read_file(os.path.join(os.getcwd(), 'data', 'California_Fire_Perimeters_2017', 'California_Fire_Perimeters_2017.shp'))\n",
    "\n",
    "#Reading in AQI data for 2017 and 2018\n",
    "aqi_17 = pd.read_csv(\"https://aqs.epa.gov/aqsweb/airdata/daily_aqi_by_county_2017.zip\")\n",
    "aqi_18 = pd.read_csv(\"https://aqs.epa.gov/aqsweb/airdata/daily_aqi_by_county_2018.zip\")\n",
    "\n",
    "#add this data to the gitignore"
   ]
  },
  {
   "cell_type": "markdown",
   "id": "bb7da4f5-d588-4b97-a11f-8bf1e3d0bfa9",
   "metadata": {},
   "source": [
    "# Data Exploration"
   ]
  },
  {
   "cell_type": "code",
   "execution_count": null,
   "id": "17ac6042-efdc-41c5-97ff-73a9d9872567",
   "metadata": {},
   "outputs": [],
   "source": [
    "#AQI DATA\n",
    "#Taking an initial look at my 2017 dataframe:\n",
    "print(aqi_17.head())\n",
    "#Taking an initial look at my 2018 dataframe:\n",
    "print(aqi_18.head())\n",
    "#Additional data exploration to view the columns of the dataframe:\n",
    "print(aqi_17.columns)\n",
    "print(aqi_18.columns)\n",
    "\n",
    "\n",
    "#CALIFORNIA FIRES DATA \n",
    "#Checking the columns of the CA fires data\n",
    "ca_fires.columns\n",
    "## Making the CA Fires columns lowercase \n",
    "ca_fires.columns = ca_fires.columns.str.lower()\n",
    "ca_fires.head() #checking the columns were updated\n",
    "\n",
    "#LANDSAT COLLECTION 2 DATA \n",
    "print('height:', bands.rio.height)\n",
    "print('width:', bands.rio.width)\n",
    "print('resolution:', bands.rio.resolution())\n",
    "print('dims:', bands.dims)\n",
    "#I can see that there is an extra band so I am going to remove it\n",
    "## Removing the band from the bands dataframe:\n",
    "bands = bands.squeeze()\n",
    "bands = bands.drop('band')\n",
    "print(bands.dims, '\\n', bands.coords, '\\n') #checking the band was removed from our dataframe"
   ]
  },
  {
   "cell_type": "markdown",
   "id": "6c45e8de-b4d5-4255-9cec-b305b3d67b2f",
   "metadata": {},
   "source": [
    "# Geographical Context \n",
    "We know have a broad set of data for all counties in 2017 and 2018 and a map that is looking at all California fires. Let's update our data to specifically look at the Thomas Fire and Santa Barbara county and make sure our mapping data is in the same CRS so we can project it on the same scale."
   ]
  },
  {
   "cell_type": "code",
   "execution_count": null,
   "id": "bec9eb7b-0273-45f0-b4d2-e8053a8c6e4d",
   "metadata": {},
   "outputs": [],
   "source": [
    "#First I'm checking the CRS\n",
    "print(ca_fires.crs)\n",
    "print(swi_bands.rio.crs)\n",
    "print(new_bands.rio.crs)\n",
    "\n",
    "#Creating a false color image \n",
    "swi_bands = bands[[\"swir22\", \"nir08\", \"red\"]]\n",
    "swi_bands =swi_bands.to_array()\n",
    "swi_bands.plot.imshow(robust= True)\n",
    "\n",
    "\n",
    "#I noticed they are different so I'm going to convert the CA crs\n",
    "ca_fires = ca_fires.to_crs(32611)\n",
    "## Making the CRS the same\n",
    "ca_fires = ca_fires.to_crs(32611)\n",
    "## Getting just the Thomas fire data\n",
    "ca_fires_new = ca_fires[ca_fires.fire_name == \"THOMAS\"]\n"
   ]
  },
  {
   "cell_type": "markdown",
   "id": "72bb6b12-85b4-4090-a638-0b02fea0f1aa",
   "metadata": {},
   "source": [
    "# Data Analysis\n",
    "- Include subsections as necessary to guide reader through your analysis\n",
    "- Include checks to see operations worked\n",
    "- Checks must be short and informative: print specific attributes instead\n",
    "of running df.head() or printing entire objects."
   ]
  },
  {
   "cell_type": "code",
   "execution_count": null,
   "id": "8c80abbe-b21c-4457-8a12-e76299b26806",
   "metadata": {},
   "outputs": [],
   "source": [
    "# Combining the dataframes\n",
    "aqi = pd.concat([aqi_17, aqi_18])\n",
    "\n",
    "# Fixing the index\n",
    "aqi = aqi.reset_index(drop=True)\n",
    "aqi\n",
    "\n",
    "# initial column names: notice caps and spaces (difficult to work with!)\n",
    "print(aqi.columns, '\\n')\n",
    "\n",
    "# re-assign the column names - .str.lower() makes them lower case\n",
    "aqi.columns = aqi.columns.str.lower()\n",
    "print(aqi.columns, '\\n')\n",
    "\n",
    "#  re-assign the column names again - .str.replace(' ','_') replaces the space for _\n",
    "aqi.columns = aqi.columns.str.replace(' ','_')\n",
    "print(aqi.columns)\n",
    "\n",
    "# as a \"one liner\" you could achieve this column name cleaning like this:\n",
    "# aqi.columns = aqi.columns.str.lower().str.replace(' ','_')\n",
    "\n",
    "# Selecting data from 'Santa Barbara' county\n",
    "aqi_sb = aqi[aqi['county_name'] == 'Santa Barbara'].copy()\n",
    "\n",
    "# Dropping specified columns\n",
    "columns_to_drop = ['state_name', 'county_name', 'state_code', 'county_code']\n",
    "aqi_sb.drop(columns_to_drop, inplace=True, axis = 1)\n",
    "\n",
    "# Checking data types of the columns\n",
    "print(aqi_sb.dtypes)\n",
    "\n",
    "#The data column is stored as an object and it needs to be converted to datetime!\n",
    "\n",
    "# Updating the date column to a datetime object\n",
    "aqi_sb['date'] = pd.to_datetime(aqi_sb['date'])\n",
    "\n",
    "# Setting the index to the date column\n",
    "aqi_sb.set_index('date', inplace=True)\n",
    "\n",
    "# Printing the updated DataFrame\n",
    "aqi_sb\n",
    "\n",
    "# Checking the index\n",
    "aqi_sb.index\n",
    "#the data type is datetime, which looks correct! \n",
    "\n",
    "# rolling() is a method for pandas.series that provides rolling window calculations\n",
    "# the parameter '5D' indicates we want the window to be 5 days\n",
    "# This is a lazy method (think groupby), we need to specify what we want to calculate over each window\n",
    "# here we add the aggregator function mean()\n",
    "# this indicates we want the mean over each window\n",
    "# and we get a pd.Series as ouput\n",
    "aqi_sb.aqi.rolling('5D').mean()\n",
    "\n",
    "# Adding a new column with the 5-day rolling mean:\n",
    "aqi_sb['five_day_average'] = aqi_sb.aqi.rolling('5D').mean()\n"
   ]
  },
  {
   "cell_type": "markdown",
   "id": "1f587782-ff86-456f-be45-1dbabf8fa93e",
   "metadata": {},
   "source": [
    "# Final Output"
   ]
  },
  {
   "cell_type": "code",
   "execution_count": null,
   "id": "4ea50301-bf9b-478a-b4c8-9b712ae60053",
   "metadata": {},
   "outputs": [],
   "source": [
    "## Plotting the shapefile\n",
    "fig, ax = plt.subplots()\n",
    "fig.set_size_inches(size, size*aspect) #why? bc cannot use ax and size aspect together\n",
    "swi_bands.plot.imshow(ax=ax, robust = True)\n",
    "ca_fires_new .plot(ax=ax,facecolor='none', edgecolor='red', linewidth=2, alpha=0.5)\n",
    "\n",
    "## Set plot title\n",
    "plt.title('Map of the Thomas Fire Perimeter (2017) in California')\n",
    "\n",
    "## Showing the plot\n",
    "plt.show()\n",
    "\n",
    "\n",
    "#Line plot of the AQI 5-day average:\n",
    "plt.figure(figsize=(12, 6))\n",
    "plt.plot(aqi_sb.index, aqi_sb['aqi'], label='Daily AQI', color='cornflowerblue')\n",
    "plt.plot(aqi_sb.index, aqi_sb['five_day_average'], label='5-Day Average', color='salmon')\n",
    "plt.title('AQI and 5-Day Average')\n",
    "plt.xlabel('Date')\n",
    "plt.ylabel('AQI')\n",
    "plt.legend()\n",
    "plt.show()"
   ]
  },
  {
   "cell_type": "code",
   "execution_count": null,
   "id": "28af8eb8-6da6-4984-b933-2fcf47a21b08",
   "metadata": {},
   "outputs": [],
   "source": [
    "\n",
    "#MANIPULATION\n",
    "\n"
   ]
  }
 ],
 "metadata": {
  "kernelspec": {
   "display_name": "Anaconda 3 (Base)",
   "language": "python",
   "name": "base"
  },
  "language_info": {
   "codemirror_mode": {
    "name": "ipython",
    "version": 3
   },
   "file_extension": ".py",
   "mimetype": "text/x-python",
   "name": "python",
   "nbconvert_exporter": "python",
   "pygments_lexer": "ipython3",
   "version": "3.9.13"
  }
 },
 "nbformat": 4,
 "nbformat_minor": 5
}
